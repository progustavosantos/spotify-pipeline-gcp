{
 "cells": [
  {
   "cell_type": "markdown",
   "id": "4b4168d4",
   "metadata": {},
   "source": [
    "#### Ingestão de dados do Spotify para a GCP"
   ]
  },
  {
   "cell_type": "code",
   "execution_count": 32,
   "id": "fd5b26ae",
   "metadata": {},
   "outputs": [
    {
     "name": "stdout",
     "output_type": "stream",
     "text": [
      "3.11.5\n"
     ]
    }
   ],
   "source": [
    "from platform import python_version \n",
    "print(python_version())"
   ]
  },
  {
   "cell_type": "code",
   "execution_count": null,
   "id": "0d949f29",
   "metadata": {},
   "outputs": [],
   "source": [
    "!pip install spotipy --upgrade"
   ]
  },
  {
   "cell_type": "code",
   "execution_count": null,
   "id": "45db3eef",
   "metadata": {},
   "outputs": [],
   "source": [
    "!pip install spotipy --upgrade"
   ]
  },
  {
   "cell_type": "code",
   "execution_count": null,
   "id": "dd1a5ee8",
   "metadata": {},
   "outputs": [],
   "source": [
    "!pip install gcloud"
   ]
  },
  {
   "cell_type": "code",
   "execution_count": null,
   "id": "4a44f841",
   "metadata": {},
   "outputs": [],
   "source": [
    "!pip install google-cloud-storage"
   ]
  },
  {
   "cell_type": "code",
   "execution_count": null,
   "id": "06cd5dc1",
   "metadata": {
    "scrolled": false
   },
   "outputs": [],
   "source": [
    "!pip install google-cloud-bigquery"
   ]
  },
  {
   "cell_type": "markdown",
   "id": "f58517f2",
   "metadata": {},
   "source": [
    "###### Inserindo as credenciais do App do Spotify em um Json por segurança"
   ]
  },
  {
   "cell_type": "code",
   "execution_count": null,
   "id": "2320c159",
   "metadata": {},
   "outputs": [],
   "source": [
    "import json"
   ]
  },
  {
   "cell_type": "code",
   "execution_count": null,
   "id": "b886d69b",
   "metadata": {},
   "outputs": [],
   "source": [
    "f = open('credentials.json')\n",
    "creds = json.load(f)"
   ]
  },
  {
   "cell_type": "code",
   "execution_count": null,
   "id": "1e5cfc54",
   "metadata": {},
   "outputs": [],
   "source": [
    "client_id = creds['client_id']\n",
    "client_secret = creds['client_secret']"
   ]
  },
  {
   "cell_type": "code",
   "execution_count": null,
   "id": "d5cea7e0",
   "metadata": {
    "scrolled": true
   },
   "outputs": [],
   "source": [
    "#print(client_id, client_secret) - OK"
   ]
  },
  {
   "cell_type": "markdown",
   "id": "f0d324a0",
   "metadata": {},
   "source": [
    "##### Importando o módulo e inserindo as credenciais para acesso a API do Spotify"
   ]
  },
  {
   "cell_type": "code",
   "execution_count": null,
   "id": "46f9013b",
   "metadata": {},
   "outputs": [],
   "source": [
    "import spotipy\n",
    "from spotipy.oauth2 import SpotifyClientCredentials"
   ]
  },
  {
   "cell_type": "code",
   "execution_count": null,
   "id": "d2d624c2",
   "metadata": {},
   "outputs": [],
   "source": [
    "client_credentials_manager = SpotifyClientCredentials(client_id=client_id, client_secret=client_secret) #variaveis que estao no json\n",
    "spt = spotipy.Spotify(client_credentials_manager = client_credentials_manager)"
   ]
  },
  {
   "cell_type": "code",
   "execution_count": null,
   "id": "1a109bc9",
   "metadata": {},
   "outputs": [],
   "source": [
    "# Playlist All Out 2000s\n",
    "playlist_link = \"https://open.spotify.com/playlist/37i9dQZF1DX4o1oenSJRJd\"\n",
    "playlist_URI = playlist_link.split(\"/\")[-1]\n",
    "spotify_data = spt.playlist_tracks(playlist_URI)"
   ]
  },
  {
   "cell_type": "code",
   "execution_count": null,
   "id": "4f699452",
   "metadata": {},
   "outputs": [],
   "source": [
    "print(spotify_data)"
   ]
  },
  {
   "cell_type": "code",
   "execution_count": null,
   "id": "8bf1fdcd",
   "metadata": {},
   "outputs": [],
   "source": [
    "spotify_data['items'][0]"
   ]
  },
  {
   "cell_type": "code",
   "execution_count": 27,
   "id": "3157516f",
   "metadata": {},
   "outputs": [
    {
     "data": {
      "text/plain": [
       "'1RM6MGv6bcl6NrAG8PGoZk'"
      ]
     },
     "execution_count": 27,
     "metadata": {},
     "output_type": "execute_result"
    }
   ],
   "source": [
    "spotify_data['items'][0]['track']['album']['id'] #returns '1RM6MGv6bcl6NrAG8PGoZk'"
   ]
  },
  {
   "cell_type": "code",
   "execution_count": 28,
   "id": "3fb087a4",
   "metadata": {},
   "outputs": [
    {
     "data": {
      "text/plain": [
       "'Confessions (Expanded Edition)'"
      ]
     },
     "execution_count": 28,
     "metadata": {},
     "output_type": "execute_result"
    }
   ],
   "source": [
    "spotify_data['items'][0]['track']['album']['name'] #returns Usher album 'Confessions (Expanded Edition)'"
   ]
  },
  {
   "cell_type": "code",
   "execution_count": 29,
   "id": "d6376c2b",
   "metadata": {},
   "outputs": [
    {
     "data": {
      "text/plain": [
       "'2004-03-23'"
      ]
     },
     "execution_count": 29,
     "metadata": {},
     "output_type": "execute_result"
    }
   ],
   "source": [
    "spotify_data['items'][0]['track']['album']['release_date'] #returns'2004-03-23'"
   ]
  },
  {
   "cell_type": "code",
   "execution_count": 30,
   "id": "787c7d90",
   "metadata": {},
   "outputs": [
    {
     "data": {
      "text/plain": [
       "21"
      ]
     },
     "execution_count": 30,
     "metadata": {},
     "output_type": "execute_result"
    }
   ],
   "source": [
    "spotify_data['items'][0]['track']['album']['total_tracks'] #returns 21"
   ]
  },
  {
   "cell_type": "code",
   "execution_count": 31,
   "id": "cccef5eb",
   "metadata": {},
   "outputs": [
    {
     "data": {
      "text/plain": [
       "'https://open.spotify.com/album/1RM6MGv6bcl6NrAG8PGoZk'"
      ]
     },
     "execution_count": 31,
     "metadata": {},
     "output_type": "execute_result"
    }
   ],
   "source": [
    "spotify_data['items'][0]['track']['album']['external_urls']['spotify'] \n",
    "#returns album link 'https://open.spotify.com/album/1RM6MGv6bcl6NrAG8PGoZk'"
   ]
  },
  {
   "cell_type": "code",
   "execution_count": null,
   "id": "6917e04d",
   "metadata": {},
   "outputs": [],
   "source": []
  }
 ],
 "metadata": {
  "kernelspec": {
   "display_name": "Python 3 (ipykernel)",
   "language": "python",
   "name": "python3"
  },
  "language_info": {
   "codemirror_mode": {
    "name": "ipython",
    "version": 3
   },
   "file_extension": ".py",
   "mimetype": "text/x-python",
   "name": "python",
   "nbconvert_exporter": "python",
   "pygments_lexer": "ipython3",
   "version": "3.11.5"
  }
 },
 "nbformat": 4,
 "nbformat_minor": 5
}
